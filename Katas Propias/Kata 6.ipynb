{
 "cells": [
  {
   "cell_type": "markdown",
   "metadata": {},
   "source": [
    "Kata 6"
   ]
  },
  {
   "cell_type": "code",
   "execution_count": 23,
   "metadata": {},
   "outputs": [
    {
     "name": "stdout",
     "output_type": "stream",
     "text": [
      "['Mercurio', 'Venus', 'Tierra', 'Marte', 'Júpiter', 'Saturno', 'Urano', 'Neptuno']\n",
      "['Mercurio', 'Venus', 'Tierra', 'Marte', 'Júpiter', 'Saturno', 'Urano', 'Neptuno', 'Plutón']\n"
     ]
    }
   ],
   "source": [
    "# EJERCICIO 1: Usar listas para almacenar nombres de planetas\n",
    "planets = [\"Mercurio\",\"Venus\",\"Tierra\",\"Marte\",\"Júpiter\",\"Saturno\",\"Urano\",\"Neptuno\"]\n",
    "\n",
    "# Creamos la lista planets y la mostramos\n",
    "print(planets)\n",
    "\n",
    "# Agregamos a plutón y mostramos el último elemento\n",
    "planets.append(\"Plutón\")\n",
    "print(planets)"
   ]
  },
  {
   "cell_type": "code",
   "execution_count": 22,
   "metadata": {},
   "outputs": [
    {
     "name": "stdout",
     "output_type": "stream",
     "text": [
      "Entre Marte y el sol hay 3 planetas. Estos son ['Mercurio', 'Venus', 'Tierra']\n",
      "Después de Marte hay 4 planetas. Estos planetas son ['Júpiter', 'Saturno', 'Urano', 'Neptuno']\n"
     ]
    }
   ],
   "source": [
    "# Ejercicio 2: Trabajando con datos de una lista\n",
    "\n",
    "# Lista de planetas\n",
    "planets = [\"Mercurio\",\"Venus\",\"Tierra\",\"Marte\",\"Júpiter\",\"Saturno\",\"Urano\",\"Neptuno\"]\n",
    "\n",
    "# Solicitamos el nombre de un planeta *Pista:  input()*\n",
    "busca_p = input(\"Ingresa el planeta que quieras buscar en la lista 'Recuerda poner la primera letra en MAYÚSCULA'\")\n",
    "\n",
    "plnt_escogido = planets.index(busca_p)\n",
    "print(\"Entre\",busca_p,\"y el sol hay\",plnt_escogido,\"planetas. Estos son\",planets[0:plnt_escogido])\n",
    "\n",
    "# Muestra los planetas más lejanos al sol\n",
    "plnt_dsps = 7-int(plnt_escogido) \n",
    "print(\"Después de\",busca_p,\"hay\",plnt_dsps,\"planetas. Estos planetas son\",planets[plnt_escogido+1:])"
   ]
  }
 ],
 "metadata": {
  "interpreter": {
   "hash": "b89b5cfaba6639976dc87ff2fec6d58faec662063367e2c229c520fe71072417"
  },
  "kernelspec": {
   "display_name": "Python 3.10.2 64-bit",
   "language": "python",
   "name": "python3"
  },
  "language_info": {
   "codemirror_mode": {
    "name": "ipython",
    "version": 3
   },
   "file_extension": ".py",
   "mimetype": "text/x-python",
   "name": "python",
   "nbconvert_exporter": "python",
   "pygments_lexer": "ipython3",
   "version": "3.10.2"
  },
  "orig_nbformat": 4
 },
 "nbformat": 4,
 "nbformat_minor": 2
}
