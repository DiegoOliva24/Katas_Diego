{
 "cells": [
  {
   "cell_type": "markdown",
   "metadata": {},
   "source": [
    "KATA 9"
   ]
  },
  {
   "cell_type": "code",
   "execution_count": null,
   "metadata": {},
   "outputs": [],
   "source": [
    "# Ejercicio: Uso de funciones en Python\n",
    "def lec_combustible(tanque1,tanque2,tanque3,promedio):\n",
    "    print(\"Lectura de combustible\\nEl tanque 1 tiene\",tanque1,\"litros de combusitble.\\nEl tanque dos tiene\",tanque2,\"litros de combusible.\\nEl tanque tres tiene\",tanque3,\"litros de combusible.\\nEl promedio de gaslina es de\",promedio(tanque1,tanque2,tanque3),\"litros de gasolina\")\n",
    "\n",
    "\n",
    "    \n",
    "def promedio(tanque1,tanque2,tanque3):\n",
    "    prom = (tanque1+tanque2+tanque3)/3\n",
    "    return(prom)\n",
    "\n",
    "\n",
    "tnq1 = int(input(\"Tanque 1\"))\n",
    "tnq2 = int(input(\"Tanque 2\"))\n",
    "tnq3 = int(input(\"Tanque 3\"))\n",
    "\n",
    "promedio(tnq1,tnq2,tnq3)\n",
    "lec_combustible(tnq1,tnq2,tnq3,promedio)"
   ]
  },
  {
   "cell_type": "code",
   "execution_count": 23,
   "metadata": {},
   "outputs": [
    {
     "name": "stdout",
     "output_type": "stream",
     "text": [
      "\n",
      "    INFORME DE LA MISION:\n",
      "    DESTINO: luna\n",
      "    HORA DE LLEGADA: 25787 mins\n",
      "    CONTAMOS CON 600110 lts de combusible total\n",
      "    El tanqueprincipal tiene 565565 restantes\n",
      "El tanque_de_reserva tiene 34545 restantes\n",
      "\n"
     ]
    }
   ],
   "source": [
    "# Ejercicio 2: Trabajo con argumentos de palabra clave\n",
    "def informe_mision(destino,*tiempo,**combustible):\n",
    "    informe = f\"\"\"\n",
    "    INFORME DE LA MISION:\n",
    "    DESTINO: {destino}\n",
    "    HORA DE LLEGADA: {sum(tiempo)} mins\n",
    "    CONTAMOS CON {sum(combustible.values())} lts de combusible total\n",
    "    \"\"\"\n",
    "    for tanques,litros in combustible.items():\n",
    "        informe += f\"El {tanques} tiene {litros} restantes\\n\"\n",
    "    return informe\n",
    "\n",
    "print(informe_mision(\"luna\",2323,23232,232, tanqueprincipal=565565, tanque_de_reserva=34545))"
   ]
  }
 ],
 "metadata": {
  "interpreter": {
   "hash": "b89b5cfaba6639976dc87ff2fec6d58faec662063367e2c229c520fe71072417"
  },
  "kernelspec": {
   "display_name": "Python 3.10.2 64-bit",
   "language": "python",
   "name": "python3"
  },
  "language_info": {
   "codemirror_mode": {
    "name": "ipython",
    "version": 3
   },
   "file_extension": ".py",
   "mimetype": "text/x-python",
   "name": "python",
   "nbconvert_exporter": "python",
   "pygments_lexer": "ipython3",
   "version": "3.10.2"
  },
  "orig_nbformat": 4
 },
 "nbformat": 4,
 "nbformat_minor": 2
}
