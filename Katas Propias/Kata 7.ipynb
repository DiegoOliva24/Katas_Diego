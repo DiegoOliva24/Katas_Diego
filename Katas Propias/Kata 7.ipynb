{
 "cells": [
  {
   "cell_type": "markdown",
   "metadata": {},
   "source": [
    "KATA 7"
   ]
  },
  {
   "cell_type": "code",
   "execution_count": 19,
   "metadata": {},
   "outputs": [
    {
     "name": "stdout",
     "output_type": "stream",
     "text": [
      "Crearemos una lista de planetas\n",
      "['mERCURIO', 'Venus', 'Tierra', 'Marte']\n",
      "mERCURIO\n",
      "Venus\n",
      "Tierra\n",
      "Marte\n"
     ]
    }
   ],
   "source": [
    "# EJERCICIO 1: Creación de un bucle \"while\"\n",
    "# En este ejercicio, estás creando una aplicación que solicita a un usuario que ingrese una lista de planetas. \n",
    "# En un ejercicio posterior, agregarás código que muestre la lista. Por ahora, crearás solo el código que solicita al usuario \n",
    "# la lista de planetas.\n",
    "\n",
    "# Declara dos variables\n",
    "print(\"Crearemos una lista de planetas\")\n",
    "new_planet = \"\"\n",
    "planets = []\n",
    "\n",
    "# Escribe el ciclo while solicitado\n",
    "while new_planet!=str(\"done\"):\n",
    "    planets.append(new_planet)\n",
    "    new_planet = str(input(\"Ingresa el nombre del planeta que gustes agregar a la lista. Para parar de agregar planetas ingresa 'done'.\"))\n",
    "else:\n",
    "    del planets[0]\n",
    "    print(planets)\n",
    "\n",
    "\n",
    "# Ejercicio 2: Creación de un ciclo \"for\"\n",
    "# En el ejercicio anterior, creaste código para solicitar a los usuarios que introduzcan una lista de nombres de planetas.\n",
    "# En este ejercicio, completarás la aplicación escribiendo código que muestre los nombres de esos planetas.\n",
    "planet = 0\n",
    "for planet in range(len(planets)):\n",
    "    print(planets[planet])\n"
   ]
  }
 ],
 "metadata": {
  "interpreter": {
   "hash": "b89b5cfaba6639976dc87ff2fec6d58faec662063367e2c229c520fe71072417"
  },
  "kernelspec": {
   "display_name": "Python 3.10.2 64-bit",
   "language": "python",
   "name": "python3"
  },
  "language_info": {
   "codemirror_mode": {
    "name": "ipython",
    "version": 3
   },
   "file_extension": ".py",
   "mimetype": "text/x-python",
   "name": "python",
   "nbconvert_exporter": "python",
   "pygments_lexer": "ipython3",
   "version": "3.10.2"
  },
  "orig_nbformat": 4
 },
 "nbformat": 4,
 "nbformat_minor": 2
}
